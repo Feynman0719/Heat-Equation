{
 "cells": [
  {
   "cell_type": "code",
   "execution_count": 45,
   "id": "c00336ae",
   "metadata": {
    "ExecuteTime": {
     "end_time": "2022-11-30T05:28:20.167124Z",
     "start_time": "2022-11-30T05:28:20.109394Z"
    }
   },
   "outputs": [],
   "source": [
    "import numpy as np\n",
    "from IPython.display import HTML\n",
    "from matplotlib import pyplot as plt\n",
    "from tqdm import notebook\n",
    "from itertools import combinations\n",
    "import scipy as sp\n",
    "import matplotlib.animation as animation\n",
    "from matplotlib.animation import FuncAnimation, PillowWriter \n",
    "from mpl_toolkits.axes_grid1 import make_axes_locatable"
   ]
  },
  {
   "cell_type": "markdown",
   "id": "ecbe60c3",
   "metadata": {},
   "source": [
    "# 선형대수로 열 방정식 풀기 2 dimension\n",
    "- 이제 2차원을 풀어보자. \n",
    "- xy 평면(Cartesian grid)에 해서 계산하자. $t,x,y$ 모두 $N$개의 구간으로 나누면 solution $U(t,x,y)=U_{n,i,j}$는 $N\\times N\\times N$ tensor가 된다. 거기에 경계조건, 초기조건을 고려하면 $(N+1)\\times (N+2)\\times (N+2)$가 된다.\n",
    "- 1차원에서 했던 것처럼 Crank-Nicolson mothod를 적용하면 다음과 같다.\n",
    "\\begin{align}\n",
    "\\partial_t u &= \\frac{u_{n+1,i,j}-u_{n,i,j}}{h'}, \\\\\n",
    "\\partial_x^2 u &= \\frac{1}{2}\n",
    "\\biggl(\n",
    "\\frac{u_{n+1,i+1,j}-2u_{n+1,i,j}+u_{n+1,i-1,j}}{h^2} + \\frac{u_{n,i+1,j}-2u_{n,i,j}+u_{n,i-1,j}}{h^2}\n",
    "\\biggr), \\\\\n",
    "\\partial_y^2 u &= \\frac{1}{2}\n",
    "\\biggl(\n",
    "\\frac{u_{n+1,i,j+1}-2u_{n+1,i,j}+u_{n+1,i,j-1}}{h^2} + \\frac{u_{n,i,j+1}-2u_{n,i,j}+u_{n,i,j-1}}{h^2}\n",
    "\\biggr)\n",
    "\\end{align}\n",
    "따라서\n",
    "\\begin{align}\n",
    "u_{n+1,i,j}-u_{n,i,j} &=\n",
    "\\frac{\\alpha h'}{2h^2} \\biggl(\n",
    "u_{n+1,i+1,j}+u_{n+1,i-1,j}+u_{n+1,i,j+1}+u_{n+1,i,j-1}-4u_{n+1,i,j} + \\\\\n",
    "& u_{n,i+1,j}+u_{n,i-1,j}+u_{n,i,j+1}+u_{n,i,j-1}-4u_{n+1,i,j}\n",
    "\\biggr)\n",
    "\\end{align}\n",
    "- 그런데 1차원과는 다르게 이 방법은 비효율적인 것으로 알려져있다([링크](https://en.wikipedia.org/wiki/Crank%E2%80%93Nicolson_method#Example:_2D_diffusion))\n",
    "\n",
    "- 다른 방법으로는 [ADI method](https://en.wikipedia.org/wiki/Alternating-direction_implicit_method#ADI_for_parabolic_equations)(Alternating-Direction Implicit method)\n",
    "- 요지는 다음과 같다. Crank-Nicolson mothod처럼 $t_{n+1/2}$을 central하게 나누되, $n$번 째에 x에 대해서 계산하고, $n+1/2$째는 y, 다시 $n$번 째는 x에 대해 계산하는 것을 반복한다. 좌변은 다음과 같다.\n",
    "$$\n",
    "\\frac{u_{n+1,i,j}-u_{n,i,j}}{h'} = \\frac{(u_{n+1/2,i,j}-u_{n,i,j})+(u_{n+1,i,j}-u_{n+1/2,i,j})}{h'}\n",
    "$$\n",
    "우변은(조금 복잡함, 상수 생략) 다음과 같다.\n",
    "\\begin{align}\n",
    "\\biggl( \n",
    "&(u_{n+1,i+1,j}+u_{n+1,i-1,j}-2u_{n+1,i,j}) + (u_{n+1,i,j+1}+u_{n+1,i,j-1}-2u_{n+1,i,j})+\\\\\n",
    "& (u_{n,i+1,j}+u_{n,i-1,j}-2u_{n,i,j}) + (u_{n,i,j+1}+u_{n,i,j-1}-2u_{n,i,j}) \\biggr) \\\\\n",
    "= \\biggl( &(u_{n+1,i+1,j}+u_{n+1,i-1,j}-2u_{n+1,i,j}) + (u_{n+1/2,i,j+1}+u_{n+1/2,i,j-1}-2u_{n+1/2,i,j})+\\\\\n",
    "& (u_{n+1/2,i+1,j}+u_{n+1/2,i-1,j}-2u_{n+1/2,i,j}) + (u_{n,i,j+1}+u_{n,i,j-1}-2u_{n,i,j})\n",
    "\\biggr) \n",
    "\\end{align}\n",
    "따라서 다음과 같이 두 방정식을 얻는다.\n",
    "\\begin{align}\n",
    "\\frac{(u_{n+1/2,i,j}-u_{n,i,j})}{h'} &= \\frac{\\alpha}{2h^2}\n",
    "\\biggl( (u_{n+1/2,i+1,j}+u_{n+1/2,i-1,j}-2u_{n+1/2,i,j}) + (u_{n,i,j+1}+u_{n,i,j-1}-2u_{n,i,j})\n",
    "\\biggr), \\\\\n",
    "\\frac{(u_{n+1,i,j}-u_{n+1/2,i,j})}{h'} &= \\frac{\\alpha}{2h^2}\n",
    "\\biggl( (u_{n+1,i,j+1}+u_{n+1,i,j-1}-2u_{n+1,i,j}) + (u_{n+1/2,i+1,j}+u_{n+1/2,i-1,j}-2u_{n+1/2,i,j})\n",
    "\\biggr)\n",
    "\\end{align}\n",
    "- 연결된 Tridiagnoal equation 두개를 얻었다."
   ]
  },
  {
   "cell_type": "code",
   "execution_count": 186,
   "id": "1a79fd62",
   "metadata": {
    "ExecuteTime": {
     "end_time": "2022-11-30T21:52:08.031647Z",
     "start_time": "2022-11-30T21:52:08.009815Z"
    }
   },
   "outputs": [],
   "source": [
    "def tri_diag_solver(a,b,c,d):\n",
    "    N = b.shape[0]\n",
    "    x = np.zeros((N,))\n",
    "    c_ = np.zeros((N-1,))\n",
    "    d_ = np.zeros((N,))\n",
    "    c_[0] = c[0] / b[0]\n",
    "    d_[0] = d[0] / b[0]\n",
    "    for i in np.arange(1,N-1):\n",
    "        c_[i] = c[i] / (b[i]-a[i]*c_[i-1])\n",
    "        d_[i] = (d[i]-a[i]*d_[i-1]) / (b[i]-a[i]*c_[i-1])\n",
    "    d_[-1] = (d[-1]-a[-1]*d_[-2]) / (b[-1]-a[-1]*c_[-1])\n",
    "    x[N-1] = d_[N-1]\n",
    "    for i in np.arange(N-1)[::-1]:\n",
    "        x[i] = d_[i] - c_[i] * x[i+1]\n",
    "    return x\n",
    "\n",
    "# def heat_eq_1d_solver(u,r):\n",
    "#     u_ = u.copy()\n",
    "#     N = u.shape[0] \n",
    "#     a = -r * np.ones((N-3,))\n",
    "#     b = (2+2*r) * np.ones((N-2,))\n",
    "#     c = -r * np.ones((N-3,))\n",
    "#     d = np.zeros((N-2,))\n",
    "# #     d = r * u[:N-2] + (2-2*r) * u[1:N-1] + r * u[2:]\n",
    "#     for i in np.arange(N-2):\n",
    "#         d[i] = r * u[i] + (2-2*r) * u[i+1] + r * u[i+2]\n",
    "#     d[0] += r * u[0]\n",
    "#     d[-1] += r * u[-1]\n",
    "#     u_[1:N-1] = tri_diag_solver(a,b,c,d)\n",
    "#     return u_\n",
    "\n",
    "def heat_eq_1d_solver(u,r,b1,b2):\n",
    "    # b1, b2: 다음 스탭의 경계값\n",
    "    u_ = u.copy()\n",
    "    N = u.shape[0] \n",
    "    a = -r * np.ones((N-3,))\n",
    "    b = (2+2*r) * np.ones((N-2,))\n",
    "    c = -r * np.ones((N-3,))\n",
    "    d = np.zeros((N-2,))\n",
    "#     d = r * u[:N-2] + (2-2*r) * u[1:N-1] + r * u[2:]\n",
    "    for i in np.arange(N-2):\n",
    "        d[i] = r * u[i] + (2-2*r) * u[i+1] + r * u[i+2]\n",
    "    d[0] += r * b1\n",
    "    d[-1] += r * b2\n",
    "    u_[1:N-1] = tri_diag_solver(a,b,c,d)\n",
    "    u_[0] = b1\n",
    "    u_[-1] = b2\n",
    "    return u_\n",
    "\n",
    "def heat_eq_2d_solver(U,r,bx1,bx2,by1,by2):\n",
    "    N = U.shape[0]\n",
    "    U_ = U.copy()\n",
    "    for n in np.arange(1,N-1):\n",
    "        U_[n] = heat_eq_1d_solver(U[n],r,by1[n-1],by2[n-1])\n",
    "    U__ = U_.copy()\n",
    "    for n in np.arange(1,N-1):\n",
    "        U__[:,n] = heat_eq_1d_solver(U_.T[n],r,bx1[n-1],bx2[n-1])\n",
    "    return U__"
   ]
  },
  {
   "cell_type": "code",
   "execution_count": 199,
   "id": "ea50711b",
   "metadata": {
    "ExecuteTime": {
     "end_time": "2022-11-30T22:48:08.811938Z",
     "start_time": "2022-11-30T22:48:08.793092Z"
    }
   },
   "outputs": [],
   "source": [
    "alpha = 2.0\n",
    "Nt = 100\n",
    "Nx = 100\n",
    "Ny = 100\n",
    "t1 = 0\n",
    "t2 = 1\n",
    "x1 = 0\n",
    "x2 = 10\n",
    "y1 = 0\n",
    "y2 = 5\n",
    "T = np.linspace(t1,t2,num=Nt)\n",
    "X = np.linspace(x1,x2,num=Nx)\n",
    "Y = np.linspace(y1,y2,num=Ny)\n",
    "ht = (t2-t1) / Nt\n",
    "hx = (x2-x1) / Nx\n",
    "hy = (y2-y1) / Ny\n",
    "r = alpha * ht / (hx * hy)\n",
    "U = np.zeros((Nt+1,Nx+2,Ny+2))\n",
    "# 경계조건\n",
    "U_top = 100.\n",
    "U_bottom = 0\n",
    "U_left = 0.\n",
    "U_right = 0\n",
    "\n",
    "U[:,:,0] = U_left\n",
    "U[:,:,-1] = U_right\n",
    "U[:,-1,:] = U_bottom\n",
    "U[:,0,:] = U_top\n",
    "\n",
    "bx1 = U_top * np.ones((Nt,))\n",
    "bx2 = U_bottom * np.ones((Nt,))\n",
    "by1 = U_left * np.ones((Nt,))\n",
    "by2 = U_right * np.ones((Nt,))\n",
    "# 초기조건\n",
    "U[0,1:Nx+1,1:Ny+1] = 0."
   ]
  },
  {
   "cell_type": "code",
   "execution_count": 200,
   "id": "155e13f5",
   "metadata": {
    "ExecuteTime": {
     "end_time": "2022-11-30T22:48:13.034190Z",
     "start_time": "2022-11-30T22:48:09.326576Z"
    }
   },
   "outputs": [
    {
     "data": {
      "application/vnd.jupyter.widget-view+json": {
       "model_id": "c42d743fbc414e08854266a2e1c3a6b6",
       "version_major": 2,
       "version_minor": 0
      },
      "text/plain": [
       "  0%|          | 0/100 [00:00<?, ?it/s]"
      ]
     },
     "metadata": {},
     "output_type": "display_data"
    }
   ],
   "source": [
    "for t in notebook.tqdm(np.arange(1,Nt+1)):\n",
    "    U[t] = heat_eq_2d_solver(U[t-1],r,bx1,bx2,by1,by2)"
   ]
  },
  {
   "cell_type": "code",
   "execution_count": 204,
   "id": "26cf7fcb",
   "metadata": {
    "ExecuteTime": {
     "end_time": "2022-11-30T22:48:30.754776Z",
     "start_time": "2022-11-30T22:48:30.671987Z"
    }
   },
   "outputs": [
    {
     "data": {
      "image/png": "[encoded data removed]",
      "text/plain": [
       "<Figure size 720x360 with 1 Axes>"
      ]
     },
     "metadata": {
      "needs_background": "light"
     },
     "output_type": "display_data"
    }
   ],
   "source": [
    "t = 10\n",
    "plt.rcParams[\"figure.figsize\"] = (10,5)\n",
    "plt.imshow(U[t],vmin=0,vmax=100)\n",
    "plt.show()"
   ]
  },
  {
   "cell_type": "code",
   "execution_count": 205,
   "id": "f49ecabd",
   "metadata": {
    "ExecuteTime": {
     "end_time": "2022-11-30T22:48:56.538682Z",
     "start_time": "2022-11-30T22:48:51.682146Z"
    }
   },
   "outputs": [
    {
     "data": {
      "image/png": "[encoded data removed]",
      "text/plain": [
       "<Figure size 576x576 with 2 Axes>"
      ]
     },
     "metadata": {
      "needs_background": "light"
     },
     "output_type": "display_data"
    }
   ],
   "source": [
    "vmin = 0\n",
    "vmax = 100\n",
    "plt.rcParams[\"figure.figsize\"] = (8,8)\n",
    "plt.rcParams[\"font.size\"] = 13\n",
    "fig = plt.figure()\n",
    "ax = fig.add_subplot(111)\n",
    "div = make_axes_locatable(ax)\n",
    "cv0 = U[0]\n",
    "im = ax.imshow(cv0)\n",
    "ax.axis('off')\n",
    "cb = fig.colorbar(im,fraction=0.045)\n",
    "\n",
    "def animate(t):\n",
    "    im.set_data(U[t])\n",
    "    im.set_clim(vmin=vmin,vmax=vmax)\n",
    "    \n",
    "ani = animation.FuncAnimation(fig,animate,frames=Nt,interval=1,repeat = True)\n",
    "ani.save(\"test_2t_ret.gif\", writer=PillowWriter(fps=1000/fps),dpi=150)    \n",
    "plt.show()"
   ]
  },
  {
   "cell_type": "markdown",
   "id": "950b96d9",
   "metadata": {},
   "source": [
    "- 얼추 맞는거 같다. 제대로 확인하려면 열 방정식을 풀어야 하는데 사각형에서 해석적(analytic)해가 있는지 모르겠다. 그나마 경계가 0으로 고정되어 있을 경우에는 Fourier series로 근사할 수 있을거 같은데 이것도 또 구현해야 한다...\n",
    "- 만약 사각형이 아니라면 어떻게 해야할까? 임의의 모양으로 하는 방법이 있을까? 좌표 변환(coordiante transform)을 해야하나? 감이 안온다.."
   ]
  },
  {
   "cell_type": "code",
   "execution_count": null,
   "id": "26f20ec0",
   "metadata": {},
   "outputs": [],
   "source": []
  }
 ],
 "metadata": {
  "kernelspec": {
   "display_name": "home",
   "language": "python",
   "name": "base"
  },
  "language_info": {
   "codemirror_mode": {
    "name": "ipython",
    "version": 3
   },
   "file_extension": ".py",
   "mimetype": "text/x-python",
   "name": "python",
   "nbconvert_exporter": "python",
   "pygments_lexer": "ipython3",
   "version": "3.9.10"
  }
 },
 "nbformat": 4,
 "nbformat_minor": 5
}
